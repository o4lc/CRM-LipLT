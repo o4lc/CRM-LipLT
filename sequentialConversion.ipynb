{
 "cells": [
  {
   "cell_type": "code",
   "execution_count": 7,
   "id": "initial_id",
   "metadata": {
    "collapsed": true,
    "ExecuteTime": {
     "end_time": "2023-11-22T21:48:19.733995449Z",
     "start_time": "2023-11-22T21:48:19.730256518Z"
    }
   },
   "outputs": [],
   "source": [
    "import torch\n",
    "import torch.nn as nn\n",
    "from Networks.NetworkModels import SequentialLipltLipschitz"
   ]
  },
  {
   "cell_type": "code",
   "execution_count": 24,
   "outputs": [],
   "source": [
    "# Example network architecture\n",
    "\n",
    "net1 = nn.Sequential(nn.Conv2d(3, 4, 7),\n",
    "                     nn.Flatten(),\n",
    "                     nn.Linear(2704, 10),\n",
    "                     nn.ReLU(),\n",
    "                     nn.Linear(10, 2),\n",
    "                     nn.Tanh(),\n",
    "                     nn.Linear(2, 20))\n",
    "\n",
    "net1.load_state_dict(torch.load(\"Path/to/your/model.pth\"))"
   ],
   "metadata": {
    "collapsed": false,
    "ExecuteTime": {
     "end_time": "2023-11-22T22:06:43.848448433Z",
     "start_time": "2023-11-22T22:06:43.840422472Z"
    }
   },
   "id": "d429fda11c099942"
  },
  {
   "cell_type": "markdown",
   "source": [
    "# Requirements:\n",
    " - The network must be a sequential network\n",
    " - The network must have a flatten layer after all the convolutional layers\n",
    " - The network must only have Linear, Conv2d, and elementwise activations slope bounded between 0 and 1 like ReLU, Tanh, etc.\n",
    "Note that our code does not check for these requirements and we have not checked if any errors will be thrown if these requirements are not met.\n",
    "\n",
    "Furthermore, you need to provide the shape of the input to the network, without the batch dimension. That is, if you for example use CIFAR-10, which has images with shape (3, 32, 32), then the sampleInputShape will be (3, 32, 32).\n",
    "This is needed to initialize the eigenvectors required for Lipschitz calculation. \n",
    "\n",
    "Next, since initial \"eigenvectors\" are random, it is required to run the power iteration algorithm for a reasonable number of iterations to ensure convergence. Here we set it to 10 iterations, but you can change it to whatever you want. Or instead, you can set it to 1 and call the lipschitz calculation function multiple times until the Lipschitz constant converges.\n",
    "\n",
    "Finally, you need to specify whether you want to calculate the Lipschitz constant per model, per class, or pairwise. Note that only one of these can be calculated at a time by our model."
   ],
   "metadata": {
    "collapsed": false
   },
   "id": "67d432c7dd40fafe"
  },
  {
   "cell_type": "code",
   "execution_count": 25,
   "outputs": [
    {
     "data": {
      "text/plain": "SequentialLipltLipschitz(\n  (linear): Sequential(\n    (0): Conv2d(3, 4, kernel_size=(7, 7), stride=(1, 1))\n    (1): Flatten(start_dim=1, end_dim=-1)\n    (2): Linear(in_features=2704, out_features=10, bias=True)\n    (3): ReLU()\n    (4): Linear(in_features=10, out_features=2, bias=True)\n    (5): Tanh()\n    (6): Linear(in_features=2, out_features=20, bias=True)\n  )\n)"
     },
     "execution_count": 25,
     "metadata": {},
     "output_type": "execute_result"
    }
   ],
   "source": [
    "sampleInputShape = (3, 32, 32)\n",
    "numberOfPowerIterations = 10\n",
    "net2 = SequentialLipltLipschitz(list(net1), sampleInputShape, perClassLipschitz=False, numberOfPowerIterations=numberOfPowerIterations, pairwiseLipschitz=True)\n",
    "net2.cuda()"
   ],
   "metadata": {
    "collapsed": false,
    "ExecuteTime": {
     "end_time": "2023-11-22T22:06:44.618485778Z",
     "start_time": "2023-11-22T22:06:44.562789901Z"
    }
   },
   "id": "a83ed70c3be29b15"
  },
  {
   "cell_type": "code",
   "execution_count": 27,
   "outputs": [
    {
     "data": {
      "text/plain": "tensor([[0.0000, 0.0640, 0.2161, 0.2609, 0.2430, 0.1005, 0.2007, 0.2664, 0.3343,\n         0.2564, 0.3028, 0.2593, 0.3983, 0.2822, 0.2575, 0.1886, 0.2494, 0.4046,\n         0.1910, 0.0651],\n        [0.0640, 0.0000, 0.2370, 0.2555, 0.1813, 0.0409, 0.1484, 0.2221, 0.3455,\n         0.2082, 0.2777, 0.1992, 0.3668, 0.2965, 0.2141, 0.1291, 0.2445, 0.3798,\n         0.2107, 0.0699],\n        [0.2161, 0.2370, 0.0000, 0.1052, 0.3192, 0.2352, 0.2440, 0.2451, 0.1220,\n         0.2556, 0.1948, 0.3188, 0.2880, 0.0689, 0.2365, 0.2697, 0.0981, 0.2701,\n         0.0263, 0.2799],\n        [0.2609, 0.2555, 0.1052, 0.0000, 0.2705, 0.2366, 0.1974, 0.1670, 0.1124,\n         0.1845, 0.0920, 0.2626, 0.1827, 0.0900, 0.1605, 0.2341, 0.0116, 0.1670,\n         0.1071, 0.3157],\n        [0.2430, 0.1813, 0.3192, 0.2705, 0.0000, 0.1425, 0.0756, 0.1247, 0.3826,\n         0.1005, 0.2287, 0.0244, 0.2767, 0.3504, 0.1249, 0.0570, 0.2646, 0.3092,\n         0.2975, 0.2391],\n        [0.1005, 0.0409, 0.2352, 0.2366, 0.1425, 0.0000, 0.1081, 0.1837, 0.3347,\n         0.1686, 0.2473, 0.1592, 0.3324, 0.2887, 0.1762, 0.0888, 0.2263, 0.3483,\n         0.2093, 0.1085],\n        [0.2007, 0.1484, 0.2440, 0.1974, 0.0756, 0.1081, 0.0000, 0.0804, 0.3090,\n         0.0617, 0.1690, 0.0759, 0.2373, 0.2752, 0.0750, 0.0416, 0.1907, 0.2616,\n         0.2230, 0.2164],\n        [0.2664, 0.2221, 0.2451, 0.1670, 0.1247, 0.1837, 0.0804, 0.0000, 0.2770,\n         0.0242, 0.1058, 0.1082, 0.1580, 0.2556, 0.0096, 0.1192, 0.1648, 0.1860,\n         0.2306, 0.2917],\n        [0.3343, 0.3455, 0.1220, 0.1124, 0.3826, 0.3347, 0.3090, 0.2770, 0.0000,\n         0.2958, 0.1853, 0.3750, 0.2469, 0.0532, 0.2714, 0.3444, 0.1183, 0.2125,\n         0.1446, 0.3962],\n        [0.2564, 0.2082, 0.2556, 0.1845, 0.1005, 0.1686, 0.0617, 0.0242, 0.2958,\n         0.0000, 0.1292, 0.0846, 0.1807, 0.2715, 0.0256, 0.0977, 0.1812, 0.2100,\n         0.2392, 0.2771],\n        [0.3028, 0.2777, 0.1948, 0.0920, 0.2287, 0.2473, 0.1690, 0.1058, 0.1853,\n         0.1292, 0.0000, 0.2138, 0.0998, 0.1786, 0.1040, 0.2105, 0.0971, 0.1023,\n         0.1914, 0.3457],\n        [0.2593, 0.1992, 0.3188, 0.2626, 0.0244, 0.1592, 0.0759, 0.1082, 0.3750,\n         0.0846, 0.2138, 0.0000, 0.2559, 0.3456, 0.1100, 0.0707, 0.2576, 0.2899,\n         0.2985, 0.2595],\n        [0.3983, 0.3668, 0.2880, 0.1827, 0.2767, 0.3324, 0.2373, 0.1580, 0.2469,\n         0.1807, 0.0998, 0.2559, 0.0000, 0.2576, 0.1623, 0.2771, 0.1906, 0.0460,\n         0.2880, 0.4363],\n        [0.2822, 0.2965, 0.0689, 0.0900, 0.3504, 0.2887, 0.2752, 0.2556, 0.0532,\n         0.2715, 0.1786, 0.3456, 0.2576, 0.0000, 0.2485, 0.3074, 0.0908, 0.2307,\n         0.0917, 0.3447],\n        [0.2575, 0.2141, 0.2365, 0.1605, 0.1249, 0.1762, 0.0750, 0.0096, 0.2714,\n         0.0256, 0.1040, 0.1100, 0.1623, 0.2485, 0.0000, 0.1150, 0.1579, 0.1884,\n         0.2217, 0.2839],\n        [0.1886, 0.1291, 0.2697, 0.2341, 0.0570, 0.0888, 0.0416, 0.1192, 0.3444,\n         0.0977, 0.2105, 0.0707, 0.2771, 0.3074, 0.1150, 0.0000, 0.2265, 0.3027,\n         0.2467, 0.1923],\n        [0.2494, 0.2445, 0.0981, 0.0116, 0.2646, 0.2263, 0.1907, 0.1648, 0.1183,\n         0.1812, 0.0971, 0.2576, 0.1906, 0.0908, 0.1579, 0.2265, 0.0000, 0.1767,\n         0.0979, 0.3044],\n        [0.4046, 0.3798, 0.2701, 0.1670, 0.3092, 0.3483, 0.2616, 0.1860, 0.2125,\n         0.2100, 0.1023, 0.2899, 0.0460, 0.2307, 0.1884, 0.3027, 0.1767, 0.0000,\n         0.2741, 0.4480],\n        [0.1910, 0.2107, 0.0263, 0.1071, 0.2975, 0.2093, 0.2230, 0.2306, 0.1446,\n         0.2392, 0.1914, 0.2985, 0.2880, 0.0917, 0.2217, 0.2467, 0.0979, 0.2741,\n         0.0000, 0.2543],\n        [0.0651, 0.0699, 0.2799, 0.3157, 0.2391, 0.1085, 0.2164, 0.2917, 0.3962,\n         0.2771, 0.3457, 0.2595, 0.4363, 0.3447, 0.2839, 0.1923, 0.3044, 0.4480,\n         0.2543, 0.0000]], device='cuda:0', grad_fn=<CatBackward0>)"
     },
     "execution_count": 27,
     "metadata": {},
     "output_type": "execute_result"
    }
   ],
   "source": [
    "net2.calculateNetworkLipschitz(0)"
   ],
   "metadata": {
    "collapsed": false,
    "ExecuteTime": {
     "end_time": "2023-11-22T22:07:08.475442865Z",
     "start_time": "2023-11-22T22:07:08.430008405Z"
    }
   },
   "id": "d506569b97379bf4"
  }
 ],
 "metadata": {
  "kernelspec": {
   "display_name": "Python 3",
   "language": "python",
   "name": "python3"
  },
  "language_info": {
   "codemirror_mode": {
    "name": "ipython",
    "version": 2
   },
   "file_extension": ".py",
   "mimetype": "text/x-python",
   "name": "python",
   "nbconvert_exporter": "python",
   "pygments_lexer": "ipython2",
   "version": "2.7.6"
  }
 },
 "nbformat": 4,
 "nbformat_minor": 5
}
